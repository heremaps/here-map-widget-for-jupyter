{
 "cells": [
  {
   "cell_type": "markdown",
   "metadata": {},
   "source": [
    "<div class=\"alert alert-block alert-warning\">\n",
    "<b>Warning:</b> Before running below cells please make sure you have API key. \n",
    "                Please see <a href=\"https://github.com/heremaps/here-map-widget-for-jupyter/blob/master/examples/README.md\">README.md</a> for more info on API key.\n",
    "</div>"
   ]
  },
  {
   "cell_type": "code",
   "execution_count": null,
   "metadata": {},
   "outputs": [],
   "source": [
    "import os\n",
    "\n",
    "os.environ[\"LS_API_KEY\"] = \"MY-API-KEY\"  # replace your API key here."
   ]
  },
  {
   "cell_type": "markdown",
   "metadata": {},
   "source": [
    "## Default Basemap Example"
   ]
  },
  {
   "cell_type": "code",
   "execution_count": null,
   "metadata": {},
   "outputs": [],
   "source": [
    "from here_map_widget import Map\n",
    "import os\n",
    "\n",
    "m = Map(\n",
    "    api_key=os.environ[\"LS_API_KEY\"],\n",
    "    center=[52.51477270923461, 13.39846691425174],\n",
    "    zoom=4,\n",
    ")\n",
    "m"
   ]
  },
  {
   "cell_type": "code",
   "execution_count": null,
   "metadata": {},
   "outputs": [],
   "source": [
    "m.bounds = (42.3472, 42.3736, -71.0408, -71.0751)  # South, West, North, East"
   ]
  },
  {
   "cell_type": "markdown",
   "metadata": {},
   "source": [
    "## Default Basemap with dark style"
   ]
  },
  {
   "cell_type": "code",
   "execution_count": null,
   "metadata": {},
   "outputs": [],
   "source": [
    "from here_map_widget import Map, Style\n",
    "import os\n",
    "\n",
    "style = Style(\n",
    "    config=\"https://heremaps.github.io/maps-api-for-javascript-examples/change-style-at-load/data/dark.yaml\",\n",
    "    base_url=\"https://js.api.here.com/v3/3.1/styles/omv/\",\n",
    ")\n",
    "\n",
    "m = Map(\n",
    "    api_key=os.environ[\"LS_API_KEY\"],\n",
    "    style=style,\n",
    "    center=[52.51477270923461, 13.39846691425174],\n",
    "    zoom=13,\n",
    ")\n",
    "m"
   ]
  },
  {
   "cell_type": "markdown",
   "metadata": {},
   "source": [
    "## Default layers raster basemap"
   ]
  },
  {
   "cell_type": "code",
   "execution_count": null,
   "metadata": {},
   "outputs": [],
   "source": [
    "from here_map_widget import Map, DefaultLayers, DefaultLayerNames, Platform\n",
    "import os\n",
    "\n",
    "default_layer = DefaultLayers(layer_name=DefaultLayerNames.raster.satellite.map)\n",
    "\n",
    "m = Map(api_key=os.environ[\"LS_API_KEY\"], basemap=default_layer, center=[44.2002, -72.7566])\n",
    "m"
   ]
  },
  {
   "cell_type": "code",
   "execution_count": null,
   "metadata": {},
   "outputs": [],
   "source": [
    "# Change basemap\n",
    "m.basemap = DefaultLayers(layer_name=DefaultLayerNames.raster.terrain.map)"
   ]
  },
  {
   "cell_type": "markdown",
   "metadata": {},
   "source": [
    "## HERE OMV service data as basemap"
   ]
  },
  {
   "cell_type": "code",
   "execution_count": null,
   "metadata": {},
   "outputs": [],
   "source": [
    "from here_map_widget import Map, OMV, Platform, Style, TileLayer\n",
    "from here_map_widget import ServiceNames, OMVUrl\n",
    "import os\n",
    "\n",
    "services_config = {\n",
    "    ServiceNames.omv: {\n",
    "        OMVUrl.scheme: \"https\",\n",
    "        OMVUrl.host: \"vector.hereapi.com\",\n",
    "        OMVUrl.path: \"/v2/vectortiles/core/mc\",\n",
    "    }\n",
    "}\n",
    "\n",
    "platform = Platform(api_key=os.environ[\"LS_API_KEY\"], services_config=services_config)\n",
    "\n",
    "style = Style(\n",
    "    config=\"https://js.api.here.com/v3/3.1/styles/omv/oslo/japan/normal.day.yaml\",\n",
    "    base_url=\"https://js.api.here.com/v3/3.1/styles/omv/oslo/japan/\",\n",
    ")\n",
    "\n",
    "omv_provider = OMV(platform=platform, style=style)\n",
    "\n",
    "omv_layer = TileLayer(provider=omv_provider, style={\"max\": 22})\n",
    "\n",
    "m = Map(\n",
    "    api_key=os.environ[\"LS_API_KEY\"],\n",
    "    center=[35.68026, 139.76744],\n",
    "    zoom=8,\n",
    "    basemap=omv_layer,\n",
    ")\n",
    "m"
   ]
  },
  {
   "cell_type": "markdown",
   "metadata": {},
   "source": [
    "## HERE Maptile service data as basemap"
   ]
  },
  {
   "cell_type": "code",
   "execution_count": null,
   "metadata": {},
   "outputs": [],
   "source": [
    "from here_map_widget import Map, Platform, MapTile, TileLayer\n",
    "from here_map_widget import ServiceNames, MapTileUrl\n",
    "import os\n",
    "\n",
    "services_config = {\n",
    "    ServiceNames.maptile: {\n",
    "        MapTileUrl.scheme: \"https\",\n",
    "        MapTileUrl.host: \"maps.ls.hereapi.com\",\n",
    "        MapTileUrl.path: \"maptile/2.1\",\n",
    "    }\n",
    "}\n",
    "\n",
    "platform = Platform(api_key=os.environ[\"LS_API_KEY\"], services_config=services_config)\n",
    "\n",
    "maptile = MapTile(\n",
    "    tile_type=\"maptile\",\n",
    "    scheme=\"hybrid.day\",\n",
    "    tile_size=256,\n",
    "    format=\"jpg\",\n",
    "    platform=platform,\n",
    "    type=\"aerial\",\n",
    ")\n",
    "\n",
    "maptile_layer = TileLayer(provider=maptile, style={\"max\": 22})\n",
    "\n",
    "m = Map(\n",
    "    api_key=os.environ[\"LS_API_KEY\"],\n",
    "    center=[35.68026, 139.76744],\n",
    "    zoom=17,\n",
    "    basemap=maptile_layer,\n",
    ")\n",
    "m"
   ]
  },
  {
   "cell_type": "markdown",
   "metadata": {},
   "source": [
    "## External basemaps\n",
    "Basemaps from other tile providers are also supported.\n",
    "[xyzservices](https://github.com/geopandas/xyzservices) supports all the external tile providers in single place and has easy to use \n",
    "python API. External basemaps in here-map-widget-for-jupyter are mapped to `xyzservices.providers`"
   ]
  },
  {
   "cell_type": "code",
   "execution_count": null,
   "metadata": {},
   "outputs": [],
   "source": [
    "from here_map_widget import basemaps"
   ]
  },
  {
   "cell_type": "code",
   "execution_count": null,
   "metadata": {},
   "outputs": [],
   "source": [
    "basemaps.OpenStreetMap.Mapnik"
   ]
  },
  {
   "cell_type": "code",
   "execution_count": null,
   "metadata": {},
   "outputs": [],
   "source": [
    "import os\n",
    "from here_map_widget import Map\n",
    "\n",
    "m = Map(\n",
    "    api_key=os.environ[\"LS_API_KEY\"],\n",
    "    center=[52.51477270923461, 13.39846691425174],\n",
    "    zoom=4,\n",
    "    basemap=basemaps.OpenStreetMap.Mapnik,\n",
    ")\n",
    "m"
   ]
  }
 ],
 "metadata": {
  "kernelspec": {
   "display_name": "Python 3 (ipykernel)",
   "language": "python",
   "name": "python3"
  },
  "language_info": {
   "codemirror_mode": {
    "name": "ipython",
    "version": 3
   },
   "file_extension": ".py",
   "mimetype": "text/x-python",
   "name": "python",
   "nbconvert_exporter": "python",
   "pygments_lexer": "ipython3",
   "version": "3.13.1"
  }
 },
 "nbformat": 4,
 "nbformat_minor": 4
}
